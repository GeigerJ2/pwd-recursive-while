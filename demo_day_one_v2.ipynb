{
 "cells": [
  {
   "cell_type": "markdown",
   "id": "168e0c74-f2f2-435c-aed2-d74054cef224",
   "metadata": {},
   "source": [
    "# Python"
   ]
  },
  {
   "cell_type": "markdown",
   "id": "e55a0c60-be82-46f9-83ad-281ab51707f5",
   "metadata": {},
   "source": [
    "## Basic while loop"
   ]
  },
  {
   "cell_type": "code",
   "execution_count": 1,
   "id": "4f958a3a-f6e0-4459-95c8-0ec2e5e85025",
   "metadata": {},
   "outputs": [
    {
     "name": "stdout",
     "output_type": "stream",
     "text": [
      "5\n"
     ]
    }
   ],
   "source": [
    "x=0\n",
    "limit = 5\n",
    "\n",
    "while x < limit:\n",
    "    x +=1\n",
    "\n",
    "print(x)"
   ]
  },
  {
   "cell_type": "markdown",
   "id": "0c777177-6e09-421b-bca8-0ce3af9dd033",
   "metadata": {},
   "source": [
    "## Recursive "
   ]
  },
  {
   "cell_type": "code",
   "execution_count": 2,
   "id": "4cf92ab8-67e6-453e-a945-e43b7220bd92",
   "metadata": {},
   "outputs": [
    {
     "data": {
      "text/plain": [
       "5"
      ]
     },
     "execution_count": 2,
     "metadata": {},
     "output_type": "execute_result"
    }
   ],
   "source": [
    "def while_loop(x, limit):\n",
    "    if not (x < limit):\n",
    "        return x\n",
    "    x += 1\n",
    "    return while_loop(x=x, limit=limit)\n",
    "\n",
    "while_loop(limit=5, x=0)"
   ]
  },
  {
   "cell_type": "markdown",
   "id": "f73d4ba6-0761-4935-8a66-96a968c3800f",
   "metadata": {},
   "source": [
    "## Functional "
   ]
  },
  {
   "cell_type": "code",
   "execution_count": 3,
   "id": "74a374fe-0c63-42ac-abe3-594782fcaedb",
   "metadata": {},
   "outputs": [],
   "source": [
    "def condition(x, limit):\n",
    "    return limit > x"
   ]
  },
  {
   "cell_type": "code",
   "execution_count": 4,
   "id": "bcf88d3a-eded-4263-b1f5-16e5c496a45b",
   "metadata": {},
   "outputs": [],
   "source": [
    "def function_body(x):\n",
    "    return x + 1"
   ]
  },
  {
   "cell_type": "code",
   "execution_count": 5,
   "id": "f9f5a531-d530-4e24-a99c-237b56ee1cc9",
   "metadata": {},
   "outputs": [],
   "source": [
    "def abstract_while(x, limit):\n",
    "    if not condition(x=x, limit=limit):\n",
    "        return x\n",
    "    x = function_body(x=x)\n",
    "    return abstract_while(x=x, limit=limit)"
   ]
  },
  {
   "cell_type": "code",
   "execution_count": 6,
   "id": "0d6cfdc7-b6a4-433a-9d6b-3d6456f3ae76",
   "metadata": {},
   "outputs": [
    {
     "data": {
      "text/plain": [
       "5"
      ]
     },
     "execution_count": 6,
     "metadata": {},
     "output_type": "execute_result"
    }
   ],
   "source": [
    "abstract_while(x=0, limit=5)"
   ]
  },
  {
   "cell_type": "markdown",
   "id": "4ba10282-0422-45f8-995c-ac6791a7f5ef",
   "metadata": {},
   "source": [
    "# Workflow Manager"
   ]
  },
  {
   "cell_type": "markdown",
   "id": "c42cc98a-5034-45d0-b0e4-04b76469fee1",
   "metadata": {},
   "source": [
    "## Aiida workgraph"
   ]
  },
  {
   "cell_type": "code",
   "execution_count": null,
   "id": "32baafff-99fb-4d99-ba20-6ff6da05a866",
   "metadata": {},
   "outputs": [],
   "source": [
    "from aiida_workgraph import task\n",
    "from aiida import load_profile\n",
    "load_profile()"
   ]
  },
  {
   "cell_type": "code",
   "execution_count": null,
   "id": "d1c2dc59-ff59-4301-afd4-91167cbadbfb",
   "metadata": {},
   "outputs": [],
   "source": [
    "def condition(x, limit):\n",
    "    return limit > x"
   ]
  },
  {
   "cell_type": "code",
   "execution_count": null,
   "id": "27539c6e-1fae-4c7c-9540-e9d31b4597da",
   "metadata": {},
   "outputs": [],
   "source": [
    "@task\n",
    "def function_body(x):\n",
    "    return x + 1"
   ]
  },
  {
   "cell_type": "code",
   "execution_count": null,
   "id": "7533fc03-4d8f-4286-8986-6252c5f6ed89",
   "metadata": {},
   "outputs": [],
   "source": [
    "@task.graph\n",
    "def abstract_while(x, limit):\n",
    "    if not condition(x=x, limit=limit):\n",
    "        return x\n",
    "    x = function_body(x=x).result\n",
    "    return abstract_while(x=x, limit=limit)"
   ]
  },
  {
   "cell_type": "code",
   "execution_count": null,
   "id": "816f53d0-d252-44a2-860a-183e77ba9c4f",
   "metadata": {},
   "outputs": [],
   "source": [
    "wg = WhileLoop.build(x=0, limit=5)\n",
    "wg.run()"
   ]
  },
  {
   "cell_type": "markdown",
   "id": "018e121a-3474-4d01-884c-9301724d8f68",
   "metadata": {},
   "source": [
    "## jobflow "
   ]
  },
  {
   "cell_type": "code",
   "execution_count": null,
   "id": "64713160-d3db-470f-af5b-e9b49a2910c0",
   "metadata": {},
   "outputs": [],
   "source": [
    "from jobflow import job, Flow, Response\n",
    "from jobflow.managers.local import run_locally"
   ]
  },
  {
   "cell_type": "code",
   "execution_count": null,
   "id": "bbf832a5-c4cd-415d-b5dc-4fc227f5fef4",
   "metadata": {},
   "outputs": [],
   "source": [
    "def condition(x, limit):\n",
    "    return limit > x"
   ]
  },
  {
   "cell_type": "code",
   "execution_count": null,
   "id": "94e09c9e-30e6-4f3a-b7cf-01c843096215",
   "metadata": {},
   "outputs": [],
   "source": [
    "def function_body(x):\n",
    "    return x + 1"
   ]
  },
  {
   "cell_type": "code",
   "execution_count": null,
   "id": "17199730-0334-410d-80d7-219821a6ca5e",
   "metadata": {},
   "outputs": [],
   "source": [
    "@job\n",
    "def abstract_while(x, limit):\n",
    "    if not condition(x, limit): \n",
    "        return x\n",
    "    x = function_body(x)\n",
    "    job_obj = abstract_while(x=x, limit=limit)\n",
    "    return Response(replace=job_obj, output=job_obj.output)"
   ]
  },
  {
   "cell_type": "code",
   "execution_count": null,
   "id": "614fcd79-2c96-413e-b351-581ed9d7928e",
   "metadata": {},
   "outputs": [],
   "source": [
    "flow = Flow([abstract_while(limit=5, x=0)])\n",
    "run_locally(flow)"
   ]
  },
  {
   "cell_type": "markdown",
   "id": "9c5df73c-e792-4fa1-912d-a83da5c1748e",
   "metadata": {},
   "source": [
    "## pyiron_base"
   ]
  },
  {
   "cell_type": "code",
   "execution_count": 7,
   "id": "6d3450c2-8394-4844-a4ea-73b795603a83",
   "metadata": {},
   "outputs": [],
   "source": [
    "from pyiron_base import job, Project"
   ]
  },
  {
   "cell_type": "code",
   "execution_count": 8,
   "id": "871d74ae-8f9e-4ff3-b6c4-b6950102ad34",
   "metadata": {},
   "outputs": [],
   "source": [
    "def condition(x, limit):\n",
    "    return limit > x"
   ]
  },
  {
   "cell_type": "code",
   "execution_count": 9,
   "id": "b67e3205-3448-456d-ba0d-31bf09204b7b",
   "metadata": {},
   "outputs": [],
   "source": [
    "@job\n",
    "def function_body(x):\n",
    "    return x + 1"
   ]
  },
  {
   "cell_type": "code",
   "execution_count": 10,
   "id": "36979cb7-fd46-4f1d-8540-43612ba2b30b",
   "metadata": {},
   "outputs": [],
   "source": [
    "# internal function\n",
    "def while_generator(condition, function_body):\n",
    "    def abstract_while(x, limit, pyiron_project=Project(\".\")):\n",
    "        if not condition(x=x, limit=limit):\n",
    "            return x\n",
    "        x = function_body(x=x, pyiron_project=pyiron_project).pull()\n",
    "        return abstract_while(x=x, limit=limit, pyiron_project=pyiron_project)\n",
    "\n",
    "    return abstract_while"
   ]
  },
  {
   "cell_type": "code",
   "execution_count": 11,
   "id": "d509fe7c-8bc2-4c6a-b731-142f138cdf7d",
   "metadata": {},
   "outputs": [
    {
     "data": {
      "application/vnd.jupyter.widget-view+json": {
       "model_id": "e5da39fa0fd14c57bf78d96fec54a32d",
       "version_major": 2,
       "version_minor": 0
      },
      "text/plain": [
       "  0%|          | 0/5 [00:00<?, ?it/s]"
      ]
     },
     "metadata": {},
     "output_type": "display_data"
    }
   ],
   "source": [
    "pr = Project(\"test\")\n",
    "pr.remove_jobs(recursive=True, silently=True)"
   ]
  },
  {
   "cell_type": "code",
   "execution_count": 12,
   "id": "2114315c-af3a-4e0d-b8d8-36f974b47365",
   "metadata": {},
   "outputs": [
    {
     "name": "stdout",
     "output_type": "stream",
     "text": [
      "The job function_body_8b8af7ed852e297a49fe935ed1c248f9 was saved and received the ID: 171\n",
      "The job function_body_ed5d35f5cf3762aaa316e59b885ad385 was saved and received the ID: 172\n",
      "The job function_body_f21a3dc5140d3a50cc8f6fa60fb6d7cb was saved and received the ID: 173\n",
      "The job function_body_6c8fb9745623538c637fad215d460000 was saved and received the ID: 174\n",
      "The job function_body_55aba88764d9bd2b3eb18a594f493672 was saved and received the ID: 175\n"
     ]
    },
    {
     "data": {
      "text/plain": [
       "5"
      ]
     },
     "execution_count": 12,
     "metadata": {},
     "output_type": "execute_result"
    }
   ],
   "source": [
    "while_generator(condition=condition, function_body=function_body)(x=0, limit=5, pyiron_project=pr)"
   ]
  },
  {
   "cell_type": "markdown",
   "id": "7b5ef791-937f-42f8-a625-a1866652aa04",
   "metadata": {},
   "source": [
    "# Abstract Syntax Tree"
   ]
  },
  {
   "cell_type": "code",
   "execution_count": 13,
   "id": "c770a3bb-e82e-41a0-9a05-3b84bffb4d75",
   "metadata": {},
   "outputs": [],
   "source": [
    "from ast import dump, parse"
   ]
  },
  {
   "cell_type": "code",
   "execution_count": 14,
   "id": "c480efbe-91ca-46c5-9331-cf8af257497c",
   "metadata": {},
   "outputs": [],
   "source": [
    "while_code = \"\"\"\\\n",
    "x = 0 \n",
    "while x < 5:\n",
    "    x += 1\n",
    "\"\"\""
   ]
  },
  {
   "cell_type": "code",
   "execution_count": 15,
   "id": "1f67fb48-c98b-490b-91a4-90d4ed735743",
   "metadata": {},
   "outputs": [
    {
     "name": "stdout",
     "output_type": "stream",
     "text": [
      "Module(\n",
      "    body=[\n",
      "        Assign(\n",
      "            targets=[\n",
      "                Name(id='x', ctx=Store())],\n",
      "            value=Constant(value=0)),\n",
      "        While(\n",
      "            test=Compare(\n",
      "                left=Name(id='x', ctx=Load()),\n",
      "                ops=[\n",
      "                    Lt()],\n",
      "                comparators=[\n",
      "                    Constant(value=5)]),\n",
      "            body=[\n",
      "                AugAssign(\n",
      "                    target=Name(id='x', ctx=Store()),\n",
      "                    op=Add(),\n",
      "                    value=Constant(value=1))],\n",
      "            orelse=[])],\n",
      "    type_ignores=[])\n"
     ]
    }
   ],
   "source": [
    "print(dump(parse(while_code), indent=4))"
   ]
  },
  {
   "cell_type": "code",
   "execution_count": null,
   "id": "42152476-4c21-4da8-a4ca-45ba3b56e0ff",
   "metadata": {},
   "outputs": [],
   "source": []
  }
 ],
 "metadata": {
  "kernelspec": {
   "display_name": "Python 3 (ipykernel)",
   "language": "python",
   "name": "python3"
  },
  "language_info": {
   "codemirror_mode": {
    "name": "ipython",
    "version": 3
   },
   "file_extension": ".py",
   "mimetype": "text/x-python",
   "name": "python",
   "nbconvert_exporter": "python",
   "pygments_lexer": "ipython3",
   "version": "3.12.10"
  }
 },
 "nbformat": 4,
 "nbformat_minor": 5
}
