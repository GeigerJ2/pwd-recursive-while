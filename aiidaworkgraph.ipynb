{
 "cells": [
  {
   "cell_type": "code",
   "execution_count": 3,
   "id": "73b78b65-9a2c-4944-82a5-a5ab978994e0",
   "metadata": {},
   "outputs": [],
   "source": [
    "from aiida_workgraph import task\n",
    "from aiida import load_profile"
   ]
  },
  {
   "cell_type": "code",
   "execution_count": 4,
   "id": "edaabbeb-7cbe-458c-9649-ff5a379961e7",
   "metadata": {},
   "outputs": [
    {
     "data": {
      "text/plain": [
       "Profile<uuid='2dc1b33ee81547efb065a6416e5fb27a' name='pwd'>"
      ]
     },
     "execution_count": 4,
     "metadata": {},
     "output_type": "execute_result"
    }
   ],
   "source": [
    "load_profile()"
   ]
  },
  {
   "cell_type": "code",
   "execution_count": 5,
   "id": "d8a2ac59-66f5-4416-aed2-fd17e6939348",
   "metadata": {},
   "outputs": [],
   "source": [
    "@task\n",
    "def add(x, y):\n",
    "    return x + y"
   ]
  },
  {
   "cell_type": "code",
   "execution_count": 6,
   "id": "06f6f6fe-db73-49a1-9669-2c206ae99da9",
   "metadata": {},
   "outputs": [],
   "source": [
    "@task.graph\n",
    "def WhileLoop(n, m):\n",
    "    if m >= n:\n",
    "        return m\n",
    "    m = add(x=m, y=1).result\n",
    "    return WhileLoop(n=n, m=m)"
   ]
  },
  {
   "cell_type": "code",
   "execution_count": 7,
   "id": "081bee0c-2163-4660-81cc-1cee4b25272e",
   "metadata": {},
   "outputs": [],
   "source": [
    "wg = WhileLoop.build(n=4, m=0)"
   ]
  },
  {
   "cell_type": "code",
   "execution_count": 8,
   "id": "cf1505b9-050a-4417-a8f5-608bf72e0ca1",
   "metadata": {},
   "outputs": [
    {
     "name": "stderr",
     "output_type": "stream",
     "text": [
      "10/21/2025 03:52:27 PM <119> aiida.orm.nodes.process.workflow.workchain.WorkChainNode: [REPORT] [4|WorkGraphEngine|continue_workgraph]: tasks ready to run: add\n",
      "10/21/2025 03:52:27 PM <119> aiida.orm.nodes.process.workflow.workchain.WorkChainNode: [REPORT] [4|WorkGraphEngine|update_task_state]: Task: add, type: PYFUNCTION, finished.\n",
      "10/21/2025 03:52:27 PM <119> aiida.orm.nodes.process.workflow.workchain.WorkChainNode: [REPORT] [4|WorkGraphEngine|continue_workgraph]: tasks ready to run: WhileLoop\n",
      "10/21/2025 03:52:27 PM <119> aiida.orm.nodes.process.workflow.workchain.WorkChainNode: [REPORT] [4|WorkGraphEngine|on_wait]: Process status: Waiting for child processes: 8\n",
      "10/21/2025 03:52:28 PM <119> aiida.orm.nodes.process.workflow.workchain.WorkChainNode: [REPORT] [8|WorkGraphEngine|continue_workgraph]: tasks ready to run: add\n",
      "10/21/2025 03:52:28 PM <119> aiida.orm.nodes.process.workflow.workchain.WorkChainNode: [REPORT] [8|WorkGraphEngine|update_task_state]: Task: add, type: PYFUNCTION, finished.\n",
      "10/21/2025 03:52:28 PM <119> aiida.orm.nodes.process.workflow.workchain.WorkChainNode: [REPORT] [8|WorkGraphEngine|continue_workgraph]: tasks ready to run: WhileLoop\n",
      "10/21/2025 03:52:28 PM <119> aiida.orm.nodes.process.workflow.workchain.WorkChainNode: [REPORT] [8|WorkGraphEngine|on_wait]: Process status: Waiting for child processes: 12\n",
      "10/21/2025 03:52:29 PM <119> aiida.orm.nodes.process.workflow.workchain.WorkChainNode: [REPORT] [12|WorkGraphEngine|continue_workgraph]: tasks ready to run: add\n",
      "10/21/2025 03:52:29 PM <119> aiida.orm.nodes.process.workflow.workchain.WorkChainNode: [REPORT] [12|WorkGraphEngine|update_task_state]: Task: add, type: PYFUNCTION, finished.\n",
      "10/21/2025 03:52:29 PM <119> aiida.orm.nodes.process.workflow.workchain.WorkChainNode: [REPORT] [12|WorkGraphEngine|continue_workgraph]: tasks ready to run: WhileLoop\n",
      "10/21/2025 03:52:29 PM <119> aiida.orm.nodes.process.workflow.workchain.WorkChainNode: [REPORT] [12|WorkGraphEngine|on_wait]: Process status: Waiting for child processes: 16\n",
      "10/21/2025 03:52:29 PM <119> aiida.orm.nodes.process.workflow.workchain.WorkChainNode: [REPORT] [16|WorkGraphEngine|continue_workgraph]: tasks ready to run: add\n",
      "10/21/2025 03:52:30 PM <119> aiida.orm.nodes.process.workflow.workchain.WorkChainNode: [REPORT] [16|WorkGraphEngine|update_task_state]: Task: add, type: PYFUNCTION, finished.\n",
      "10/21/2025 03:52:30 PM <119> aiida.orm.nodes.process.workflow.workchain.WorkChainNode: [REPORT] [16|WorkGraphEngine|continue_workgraph]: tasks ready to run: WhileLoop\n",
      "10/21/2025 03:52:30 PM <119> aiida.orm.nodes.process.workflow.workchain.WorkChainNode: [REPORT] [16|WorkGraphEngine|on_wait]: Process status: Waiting for child processes: 19\n",
      "10/21/2025 03:52:30 PM <119> aiida.orm.nodes.process.workflow.workchain.WorkChainNode: [REPORT] [19|WorkGraphEngine|continue_workgraph]: tasks ready to run: \n",
      "10/21/2025 03:52:30 PM <119> aiida.orm.nodes.process.workflow.workchain.WorkChainNode: [REPORT] [19|WorkGraphEngine|finalize]: Finalize workgraph.\n",
      "10/21/2025 03:52:31 PM <119> aiida.orm.nodes.process.workflow.workchain.WorkChainNode: [REPORT] [16|WorkGraphEngine|update_task_state]: Task: WhileLoop, type: GRAPH, finished.\n",
      "10/21/2025 03:52:31 PM <119> aiida.orm.nodes.process.workflow.workchain.WorkChainNode: [REPORT] [16|WorkGraphEngine|continue_workgraph]: tasks ready to run: \n",
      "10/21/2025 03:52:31 PM <119> aiida.orm.nodes.process.workflow.workchain.WorkChainNode: [REPORT] [16|WorkGraphEngine|finalize]: Finalize workgraph.\n",
      "10/21/2025 03:52:31 PM <119> aiida.orm.nodes.process.workflow.workchain.WorkChainNode: [REPORT] [12|WorkGraphEngine|update_task_state]: Task: WhileLoop, type: GRAPH, finished.\n",
      "10/21/2025 03:52:32 PM <119> aiida.orm.nodes.process.workflow.workchain.WorkChainNode: [REPORT] [12|WorkGraphEngine|continue_workgraph]: tasks ready to run: \n",
      "10/21/2025 03:52:32 PM <119> aiida.orm.nodes.process.workflow.workchain.WorkChainNode: [REPORT] [12|WorkGraphEngine|finalize]: Finalize workgraph.\n",
      "10/21/2025 03:52:32 PM <119> aiida.orm.nodes.process.workflow.workchain.WorkChainNode: [REPORT] [8|WorkGraphEngine|update_task_state]: Task: WhileLoop, type: GRAPH, finished.\n",
      "10/21/2025 03:52:32 PM <119> aiida.orm.nodes.process.workflow.workchain.WorkChainNode: [REPORT] [8|WorkGraphEngine|continue_workgraph]: tasks ready to run: \n",
      "10/21/2025 03:52:32 PM <119> aiida.orm.nodes.process.workflow.workchain.WorkChainNode: [REPORT] [8|WorkGraphEngine|finalize]: Finalize workgraph.\n",
      "10/21/2025 03:52:32 PM <119> aiida.orm.nodes.process.workflow.workchain.WorkChainNode: [REPORT] [4|WorkGraphEngine|update_task_state]: Task: WhileLoop, type: GRAPH, finished.\n",
      "10/21/2025 03:52:33 PM <119> aiida.orm.nodes.process.workflow.workchain.WorkChainNode: [REPORT] [4|WorkGraphEngine|continue_workgraph]: tasks ready to run: \n",
      "10/21/2025 03:52:33 PM <119> aiida.orm.nodes.process.workflow.workchain.WorkChainNode: [REPORT] [4|WorkGraphEngine|finalize]: Finalize workgraph.\n"
     ]
    },
    {
     "data": {
      "text/plain": [
       "{'result': <Int: uuid: 9cd1d23c-b2f2-40be-8790-abb3aeebc5a5 (pk: 18) value: 4>}"
      ]
     },
     "execution_count": 8,
     "metadata": {},
     "output_type": "execute_result"
    }
   ],
   "source": [
    "wg.run()"
   ]
  },
  {
   "cell_type": "code",
   "execution_count": null,
   "id": "034b00f7-3f89-4411-bc5b-2d6f58726b79",
   "metadata": {},
   "outputs": [],
   "source": []
  }
 ],
 "metadata": {
  "kernelspec": {
   "display_name": "Python 3 (ipykernel)",
   "language": "python",
   "name": "python3"
  },
  "language_info": {
   "codemirror_mode": {
    "name": "ipython",
    "version": 3
   },
   "file_extension": ".py",
   "mimetype": "text/x-python",
   "name": "python",
   "nbconvert_exporter": "python",
   "pygments_lexer": "ipython3",
   "version": "3.12.12"
  }
 },
 "nbformat": 4,
 "nbformat_minor": 5
}
